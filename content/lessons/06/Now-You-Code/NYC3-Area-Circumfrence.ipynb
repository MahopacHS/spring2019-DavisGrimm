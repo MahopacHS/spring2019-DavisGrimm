{
  "cells": [
    {
      "metadata": {},
      "cell_type": "markdown",
      "source": "# Now You Code 3: Area and Circumfrence\n\nIn this assignment you are tasks with writing a program which inputs the radius of a circle, and outputs the circumfrence and area of that circle. Feel free to lookup the formulas online. \n\nWe will use the **Write - Refactor - Test - Rewrite** approach to complete the final solution which uses functions.\n\n**NOTE** `import math` then use `math.PI` to get the value of Pi https://en.wikipedia.org/wiki/Pi"
    },
    {
      "metadata": {},
      "cell_type": "markdown",
      "source": "## Step 1: Write\n\nHere's the algorihm of this program. Write the solution in Python.\n\n```\n    input radius as a float\n    calculate circle area\n    calcuate circle circumfrence\n    print radus, area, circumfrence\n```\n\nExample run:\n\n```\nEnter Radius: 1\nA circle with radius 1.000000 has area 3.141593 and circumfrence 6.283185\n```\n"
    },
    {
      "metadata": {
        "trusted": true
      },
      "cell_type": "code",
      "source": "import math\nradius = int(input(\"Enter radius: \"))\narea = int(math.pi * (radius * radius))\ncircumference = int(2 * (math.pi * radius))\nprint(\"Radius of\",radius,\", area of\",area,\", & circumference of\",circumference)",
      "execution_count": 8,
      "outputs": [
        {
          "output_type": "stream",
          "name": "stdout",
          "text": "Enter radius: 1\nRadius of 1 , area of 3 , & circumference of 6\n"
        }
      ]
    },
    {
      "metadata": {},
      "cell_type": "markdown",
      "source": "## Step 2: Refactor\n\nNext we need to refactor the `area` and `circumfrence` logic into functions. \n\n- `CircleArea()` has one input a `radius` and returns the `area` as output.\n- `CircleCircumfrence()` has one input a `radius` and returns the `circumfrence` as output. \n"
    },
    {
      "metadata": {
        "trusted": true
      },
      "cell_type": "code",
      "source": "radius = int(input(\"Enter radius: \"))\nCircleArea = int(math.pi * (radius * radius))\nCircleCircumference = int(2 * (math.pi * radius))\nprint(\"CircleArea = \",CircleArea,\"& CicleCircumference = \",CircleCircumference)",
      "execution_count": 23,
      "outputs": [
        {
          "output_type": "stream",
          "name": "stdout",
          "text": "Enter radius: 1\nCircleArea =  3 & CicleCircumference =  6\n"
        }
      ]
    },
    {
      "metadata": {},
      "cell_type": "markdown",
      "source": "## Step 3: Test \n\nTime to test. Write two tests, once for each function\n```\nWHEN radius=1 We EXPECT CircleArea(radius) to return 3.141593 \nWHEN radius=1 We EXPECT CircleCircumfrence(radius) to return 6.283185\n```\n\nMake sure you call the function to get the actual, just like in the coding lab. \n\nNOTE: If its accurate to 4 decimal places, that's sufficient. The test values might be different because of how the \"%f\" format code works."
    },
    {
      "metadata": {
        "trusted": true
      },
      "cell_type": "code",
      "source": "print(\"WHEN radius=1 We EXPECT CircleArea(radius) to return 3.141593\", CircleArea(\"1\"))\nprint(\"WHEN radius=1 We EXPECT CircleCircumfrence(radius) to return 6.283185\", CircleCircemference(\"1\"))",
      "execution_count": 35,
      "outputs": [
        {
          "output_type": "error",
          "ename": "TypeError",
          "evalue": "'int' object is not callable",
          "traceback": [
            "\u001b[0;31m---------------------------------------------------------------------------\u001b[0m",
            "\u001b[0;31mTypeError\u001b[0m                                 Traceback (most recent call last)",
            "\u001b[0;32m<ipython-input-35-4167cf466f8b>\u001b[0m in \u001b[0;36m<module>\u001b[0;34m()\u001b[0m\n\u001b[0;32m----> 1\u001b[0;31m \u001b[0mprint\u001b[0m\u001b[0;34m(\u001b[0m\u001b[0;34m\"WHEN radius=1 We EXPECT CircleArea(radius) to return 3.141593\"\u001b[0m\u001b[0;34m,\u001b[0m \u001b[0mCircleArea\u001b[0m\u001b[0;34m(\u001b[0m\u001b[0;34m\"1\"\u001b[0m\u001b[0;34m)\u001b[0m\u001b[0;34m)\u001b[0m\u001b[0;34m\u001b[0m\u001b[0m\n\u001b[0m\u001b[1;32m      2\u001b[0m \u001b[0mprint\u001b[0m\u001b[0;34m(\u001b[0m\u001b[0;34m\"WHEN radius=1 We EXPECT CircleCircumfrence(radius) to return 6.283185\"\u001b[0m\u001b[0;34m,\u001b[0m \u001b[0mCircleCircemference\u001b[0m\u001b[0;34m(\u001b[0m\u001b[0;34m\"1\"\u001b[0m\u001b[0;34m)\u001b[0m\u001b[0;34m)\u001b[0m\u001b[0;34m\u001b[0m\u001b[0m\n",
            "\u001b[0;31mTypeError\u001b[0m: 'int' object is not callable"
          ]
        }
      ]
    },
    {
      "metadata": {},
      "cell_type": "markdown",
      "source": "## Step 4: rewrite the program to use the function\n\nFinally re-write the original program, but call the functions. \n"
    },
    {
      "metadata": {
        "trusted": true
      },
      "cell_type": "code",
      "source": "import math\nradius = int(input(\"Enter radius: \"))\narea = int(math.pi * (radius * radius))\ncircumference = int(2 * (math.pi * radius))\nprint(\"Radius of\",radius,\", area of\",area,\", & circumference of\",circumference)\nprint(\"WHEN radius=1 We EXPECT CircleArea(radius) to return 3.141593\", CircleArea(\"1\"))\nprint(\"WHEN radius=1 We EXPECT CircleCircumfrence(radius) to return 6.283185\", CircleCircemference(\"1\"))",
      "execution_count": 37,
      "outputs": [
        {
          "output_type": "stream",
          "name": "stdout",
          "text": "Enter radius: 1\nRadius of 1 , area of 3 , & circumference of 6\n"
        },
        {
          "output_type": "error",
          "ename": "TypeError",
          "evalue": "'int' object is not callable",
          "traceback": [
            "\u001b[0;31m---------------------------------------------------------------------------\u001b[0m",
            "\u001b[0;31mTypeError\u001b[0m                                 Traceback (most recent call last)",
            "\u001b[0;32m<ipython-input-37-1f91900c77b8>\u001b[0m in \u001b[0;36m<module>\u001b[0;34m()\u001b[0m\n\u001b[1;32m      4\u001b[0m \u001b[0mcircumference\u001b[0m \u001b[0;34m=\u001b[0m \u001b[0mint\u001b[0m\u001b[0;34m(\u001b[0m\u001b[0;36m2\u001b[0m \u001b[0;34m*\u001b[0m \u001b[0;34m(\u001b[0m\u001b[0mmath\u001b[0m\u001b[0;34m.\u001b[0m\u001b[0mpi\u001b[0m \u001b[0;34m*\u001b[0m \u001b[0mradius\u001b[0m\u001b[0;34m)\u001b[0m\u001b[0;34m)\u001b[0m\u001b[0;34m\u001b[0m\u001b[0m\n\u001b[1;32m      5\u001b[0m \u001b[0mprint\u001b[0m\u001b[0;34m(\u001b[0m\u001b[0;34m\"Radius of\"\u001b[0m\u001b[0;34m,\u001b[0m\u001b[0mradius\u001b[0m\u001b[0;34m,\u001b[0m\u001b[0;34m\", area of\"\u001b[0m\u001b[0;34m,\u001b[0m\u001b[0marea\u001b[0m\u001b[0;34m,\u001b[0m\u001b[0;34m\", & circumference of\"\u001b[0m\u001b[0;34m,\u001b[0m\u001b[0mcircumference\u001b[0m\u001b[0;34m)\u001b[0m\u001b[0;34m\u001b[0m\u001b[0m\n\u001b[0;32m----> 6\u001b[0;31m \u001b[0mprint\u001b[0m\u001b[0;34m(\u001b[0m\u001b[0;34m\"WHEN radius=1 We EXPECT CircleArea(radius) to return 3.141593\"\u001b[0m\u001b[0;34m,\u001b[0m \u001b[0mCircleArea\u001b[0m\u001b[0;34m(\u001b[0m\u001b[0;34m\"1\"\u001b[0m\u001b[0;34m)\u001b[0m\u001b[0;34m)\u001b[0m\u001b[0;34m\u001b[0m\u001b[0m\n\u001b[0m\u001b[1;32m      7\u001b[0m \u001b[0mprint\u001b[0m\u001b[0;34m(\u001b[0m\u001b[0;34m\"WHEN radius=1 We EXPECT CircleCircumfrence(radius) to return 6.283185\"\u001b[0m\u001b[0;34m,\u001b[0m \u001b[0mCircleCircemference\u001b[0m\u001b[0;34m(\u001b[0m\u001b[0;34m\"1\"\u001b[0m\u001b[0;34m)\u001b[0m\u001b[0;34m)\u001b[0m\u001b[0;34m\u001b[0m\u001b[0m\n",
            "\u001b[0;31mTypeError\u001b[0m: 'int' object is not callable"
          ]
        }
      ]
    },
    {
      "metadata": {},
      "cell_type": "markdown",
      "source": "## Step 6: Questions\n\n1. Provide 3 advantages for programming a user function in your code like `CircleArea`  or `CircleCircumfrence`\n2. If we want to guarantee our `CircleCircumfrence` function is 100% accurate, what is the minimum number of test cases must we provide in step 3?\n"
    },
    {
      "metadata": {},
      "cell_type": "markdown",
      "source": "## Reminder of Evaluation Criteria\n\n1. What the problem attempted (analysis, code, and answered questions) ?\n2. What the problem analysis thought out? (does the program match the plan?)\n3. Does the code execute without syntax error?\n4. Does the code solve the intended problem?\n5. Is the code well written? (easy to understand, modular, and self-documenting, handles errors)\n"
    },
    {
      "metadata": {
        "collapsed": true,
        "trusted": false
      },
      "cell_type": "code",
      "source": "1. Easier, faster, makes code shorter\n2. 2",
      "execution_count": null,
      "outputs": []
    }
  ],
  "metadata": {
    "anaconda-cloud": {},
    "kernelspec": {
      "name": "python3",
      "display_name": "Python 3",
      "language": "python"
    },
    "language_info": {
      "mimetype": "text/x-python",
      "nbconvert_exporter": "python",
      "name": "python",
      "file_extension": ".py",
      "version": "3.5.4",
      "pygments_lexer": "ipython3",
      "codemirror_mode": {
        "version": 3,
        "name": "ipython"
      }
    }
  },
  "nbformat": 4,
  "nbformat_minor": 1
}