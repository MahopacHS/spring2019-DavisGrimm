{
  "cells": [
    {
      "metadata": {},
      "cell_type": "markdown",
      "source": "# End-To-End Example: Bad Password Checker\n\n- Read in list of bad passwords from file `bad-passwords.txt`\n- Main program loop which:\n  - inputs a password \n  - checks whether the password  is \"good\" or \"bad\" by checking against the list\n  - repeats this until you enter no password. \n\n"
    },
    {
      "metadata": {
        "trusted": true
      },
      "cell_type": "code",
      "source": "# read passwords into list\n#todo:\n#input: none, output: list of bad passwords\n# for each line in bad-passwords.txt\n# add to list\n\ndef read_passwords():\n    bad_password_list = []\n    filename = \"ETEE-bad-passwords.txt\"\n    with open(filename) as f:\n        for line in f:\n            bad_password_list.append(line.strip())\n    return bad_password_list\n\n# password in list?\n#input: password list and a password to check, output: True or False\n#todo\n# get index of password in list\n# return true\n# when ValueError return false\n\ndef password_in_list(password, bad_password_list):\n    try:\n        index = bad_password_list.index(password)\n        return True\n    except ValueError:\n        return False\n\n# main program \nbad_password_list = read_passwords()\nprint(\"This program will check for quality passwords against a list of known bad passwords.\")\nwhile True:\n    password = input(\"Enter a password or ENTER to quit: \")\n    if password == \"\":\n        break\n    if password_in_list(password, bad_password_list):\n        print(\"%s is a bad password. It is on the list.\" % (password))\n    else:\n        print(\"%s seems like an ok password. It is not on the list.\" % (password))\n",
      "execution_count": 1,
      "outputs": [
        {
          "output_type": "stream",
          "text": "This program will check for quality passwords against a list of known bad passwords.\nEnter a password or ENTER to quit: 1357911\n1357911 seems like an ok password. It is not on the list.\nEnter a password or ENTER to quit: password\npassword is a bad password. It is on the list.\nEnter a password or ENTER to quit: quit\nquit seems like an ok password. It is not on the list.\nEnter a password or ENTER to quit: ENTER\nENTER seems like an ok password. It is not on the list.\nEnter a password or ENTER to quit: \n",
          "name": "stdout"
        }
      ]
    },
    {
      "metadata": {
        "collapsed": true,
        "trusted": false
      },
      "cell_type": "code",
      "source": "",
      "execution_count": null,
      "outputs": []
    }
  ],
  "metadata": {
    "anaconda-cloud": {},
    "kernelspec": {
      "name": "python3",
      "display_name": "Python 3",
      "language": "python"
    },
    "language_info": {
      "mimetype": "text/x-python",
      "nbconvert_exporter": "python",
      "name": "python",
      "pygments_lexer": "ipython3",
      "version": "3.5.4",
      "file_extension": ".py",
      "codemirror_mode": {
        "version": 3,
        "name": "ipython"
      }
    }
  },
  "nbformat": 4,
  "nbformat_minor": 1
}