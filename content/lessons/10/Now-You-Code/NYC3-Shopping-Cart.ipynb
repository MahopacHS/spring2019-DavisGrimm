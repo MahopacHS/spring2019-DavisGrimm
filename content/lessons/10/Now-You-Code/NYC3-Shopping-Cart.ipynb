{
  "cells": [
    {
      "metadata": {},
      "cell_type": "markdown",
      "source": "# Now You Code 3: Shopping Cart\n\nIn this program you will implement an online shopping cart using a Python list of dictionary. The dictionary will contain the product name, price and quantity. \n\n\nThe program should loop continually,  asking the user to enter \n - Product name\n - Product price\n - Product quantity\n\nuntil the user enters a product name of `'checkout'` at which time the loop should break.\n\nEach time through the loop you should create a dictionary of product name, product price and product quantity then add the dictionary to a list.\n\nAfter you enter `'checkout'`  the program should show:\n\n - all the items in the cart, including their quantity and price\n - and the total amount of the order, a running sum of quantity times price\n\nNOTE: Don't worry about handling bad inputs for this exercise.\n\nExample Run:\n\n```\nE-Commerce Shopping Cart\nEnter product name or 'checkout':pencil\nEnter pencil Price:0.99\nEnter pencil Quantity:10\nEnter product name or 'checkout':calculator\nEnter calculator Price:9.99\nEnter calculator Quantity:1\nEnter product name or 'checkout':checkout\npencil 10 $0.99\ncalculator 1 $9.99\nTOTAL: $19.89\n```\n\nStart out your program by writing your TODO list of steps you'll need to solve the problem!"
    },
    {
      "metadata": {
        "collapsed": true
      },
      "cell_type": "markdown",
      "source": "## Step 1: Problem Analysis\n\nInputs:\n\nOutputs:\n\nAlgorithm (Steps in Program):\n\n```\nwrite algorithm here\n```\n"
    },
    {
      "metadata": {
        "trusted": true
      },
      "cell_type": "code",
      "source": "checkout = input(\"Enter product name: \")\nif checkout = 'quit':\n    break\nelse:\n    price = input(\"Enter product price: \")\n    quantity = input(\"Enter product quantity: \")\n    print(checkout,quantity,price)",
      "execution_count": 1,
      "outputs": [
        {
          "output_type": "error",
          "ename": "SyntaxError",
          "evalue": "invalid syntax (<ipython-input-1-baebe0ccb1a0>, line 2)",
          "traceback": [
            "\u001b[0;36m  File \u001b[0;32m\"<ipython-input-1-baebe0ccb1a0>\"\u001b[0;36m, line \u001b[0;32m2\u001b[0m\n\u001b[0;31m    if checkout = 'quit':\u001b[0m\n\u001b[0m                ^\u001b[0m\n\u001b[0;31mSyntaxError\u001b[0m\u001b[0;31m:\u001b[0m invalid syntax\n"
          ]
        }
      ]
    },
    {
      "metadata": {},
      "cell_type": "markdown",
      "source": "## Step 3: Questions\n\n1. How does using a Python dictionary simplify this program? (Think of how you would have to write this program if you did not use a dictionary)\n2. What Happens when you run the program and just type `checkout`. Does the program work as you would expect?\n"
    },
    {
      "metadata": {},
      "cell_type": "markdown",
      "source": "## Reminder of Evaluation Criteria\n\n1. What the problem attempted (analysis, code, and answered questions) ?\n2. What the problem analysis thought out? (does the program match the plan?)\n3. Does the code execute without syntax error?\n4. Does the code solve the intended problem?\n5. Is the code well written? (easy to understand, modular, and self-documenting, handles errors)\n"
    },
    {
      "metadata": {
        "trusted": false
      },
      "cell_type": "code",
      "source": "",
      "execution_count": null,
      "outputs": []
    }
  ],
  "metadata": {
    "anaconda-cloud": {},
    "kernelspec": {
      "name": "python3",
      "display_name": "Python 3",
      "language": "python"
    },
    "language_info": {
      "mimetype": "text/x-python",
      "nbconvert_exporter": "python",
      "name": "python",
      "file_extension": ".py",
      "version": "3.5.4",
      "pygments_lexer": "ipython3",
      "codemirror_mode": {
        "version": 3,
        "name": "ipython"
      }
    }
  },
  "nbformat": 4,
  "nbformat_minor": 1
}