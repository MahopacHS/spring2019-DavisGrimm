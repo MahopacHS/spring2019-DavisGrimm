{
  "cells": [
    {
      "metadata": {},
      "cell_type": "markdown",
      "source": "## Load the 7 day forecast from DarkSky.Net into Pandas!\n\nIn this example you will go back to https://api.darksky.net and use your API key to get the current weather forecast for:\n\nSyrcause, NY `(lat=43.0481221, lng=-76.1474244)`\n\nIn the forecast output, find the daily 7 day forecast (it's the current conditions + 7 days out == 8 days total)\n\nExtract the forecast data and load it into Pandas, then display the Time of the forecast, and high and low temperatures:\n\n**HINT**: To get the times to show up in a human-readable format, you must convert the DarkSky API time (which is in unix timestamp format) to a Pandas Timestamp date/time format. The `pd.to_datetime()` function can help you:\n\n```\ntime = 1489402800 # this the time format Darksky returns\nreadable_time = pd.to_datetime(time, unit='s') ## s stands for unix timestamp format\nreadable_time\n\nTimestamp('2017-03-13 11:00:00')\n```\n\nJust replace the `['time']` column in the `DataFrame` with the new version."
    },
    {
      "metadata": {},
      "cell_type": "markdown",
      "source": "## Step 1: Problem Analysis for entire program\n\nInputs: \n\nOutputs:\n\nAlgorithm (Steps in Program):\n"
    },
    {
      "metadata": {
        "trusted": true
      },
      "cell_type": "code",
      "source": "time = '1489402800'\nreadable_time = pd.to_datetime(time, unit='s')\nreadable_time",
      "execution_count": 7,
      "outputs": [
        {
          "output_type": "execute_result",
          "execution_count": 7,
          "data": {
            "text/plain": "Timestamp('2017-03-13 11:00:00')"
          },
          "metadata": {}
        }
      ]
    },
    {
      "metadata": {
        "trusted": true
      },
      "cell_type": "code",
      "source": "import pandas as pd\nimport numpy as np\nimport requests\n\nkey = '3489a0a9c979f039feefca0ffcb95cdb'\nlatitude = 43.0481221\nlongitude = -76.1474244\nurl = 'https://api.darksky.net/forecast/%s/%s,%s' % (key, latitude, longitude)\nresponse = requests.get(url)\ndata = response.json()\nforecast = data['daily']['data']\nweather = pd.DataFrame(forecast)\nweather['time'] = pd.to_datetime(weather['time'], unit = 's')\nweather[['time', 'temperatureMin', 'temperatureMax']]",
      "execution_count": 15,
      "outputs": [
        {
          "output_type": "execute_result",
          "execution_count": 15,
          "data": {
            "text/html": "<div>\n<table border=\"1\" class=\"dataframe\">\n  <thead>\n    <tr style=\"text-align: right;\">\n      <th></th>\n      <th>time</th>\n      <th>temperatureMin</th>\n      <th>temperatureMax</th>\n    </tr>\n  </thead>\n  <tbody>\n    <tr>\n      <th>0</th>\n      <td>2019-05-10 04:00:00</td>\n      <td>50.62</td>\n      <td>69.61</td>\n    </tr>\n    <tr>\n      <th>1</th>\n      <td>2019-05-11 04:00:00</td>\n      <td>42.05</td>\n      <td>57.44</td>\n    </tr>\n    <tr>\n      <th>2</th>\n      <td>2019-05-12 04:00:00</td>\n      <td>45.82</td>\n      <td>56.55</td>\n    </tr>\n    <tr>\n      <th>3</th>\n      <td>2019-05-13 04:00:00</td>\n      <td>44.82</td>\n      <td>54.17</td>\n    </tr>\n    <tr>\n      <th>4</th>\n      <td>2019-05-14 04:00:00</td>\n      <td>46.82</td>\n      <td>61.87</td>\n    </tr>\n    <tr>\n      <th>5</th>\n      <td>2019-05-15 04:00:00</td>\n      <td>42.50</td>\n      <td>68.54</td>\n    </tr>\n    <tr>\n      <th>6</th>\n      <td>2019-05-16 04:00:00</td>\n      <td>50.24</td>\n      <td>59.11</td>\n    </tr>\n    <tr>\n      <th>7</th>\n      <td>2019-05-17 04:00:00</td>\n      <td>42.20</td>\n      <td>58.79</td>\n    </tr>\n  </tbody>\n</table>\n</div>",
            "text/plain": "                 time  temperatureMin  temperatureMax\n0 2019-05-10 04:00:00           50.62           69.61\n1 2019-05-11 04:00:00           42.05           57.44\n2 2019-05-12 04:00:00           45.82           56.55\n3 2019-05-13 04:00:00           44.82           54.17\n4 2019-05-14 04:00:00           46.82           61.87\n5 2019-05-15 04:00:00           42.50           68.54\n6 2019-05-16 04:00:00           50.24           59.11\n7 2019-05-17 04:00:00           42.20           58.79"
          },
          "metadata": {}
        }
      ]
    },
    {
      "metadata": {
        "trusted": false
      },
      "cell_type": "code",
      "source": "# Here's my output from when I ran the solution, to give you an example of what I expect",
      "execution_count": 19,
      "outputs": [
        {
          "data": {
            "text/html": "<div>\n<table border=\"1\" class=\"dataframe\">\n  <thead>\n    <tr style=\"text-align: right;\">\n      <th></th>\n      <th>time</th>\n      <th>temperatureMin</th>\n      <th>temperatureMax</th>\n    </tr>\n  </thead>\n  <tbody>\n    <tr>\n      <th>0</th>\n      <td>2017-03-13 04:00:00</td>\n      <td>8.74</td>\n      <td>25.01</td>\n    </tr>\n    <tr>\n      <th>1</th>\n      <td>2017-03-14 04:00:00</td>\n      <td>17.85</td>\n      <td>25.42</td>\n    </tr>\n    <tr>\n      <th>2</th>\n      <td>2017-03-15 04:00:00</td>\n      <td>15.93</td>\n      <td>22.90</td>\n    </tr>\n    <tr>\n      <th>3</th>\n      <td>2017-03-16 04:00:00</td>\n      <td>17.23</td>\n      <td>29.19</td>\n    </tr>\n    <tr>\n      <th>4</th>\n      <td>2017-03-17 04:00:00</td>\n      <td>17.25</td>\n      <td>36.15</td>\n    </tr>\n    <tr>\n      <th>5</th>\n      <td>2017-03-18 04:00:00</td>\n      <td>26.74</td>\n      <td>38.07</td>\n    </tr>\n    <tr>\n      <th>6</th>\n      <td>2017-03-19 04:00:00</td>\n      <td>25.69</td>\n      <td>32.82</td>\n    </tr>\n    <tr>\n      <th>7</th>\n      <td>2017-03-20 04:00:00</td>\n      <td>13.76</td>\n      <td>37.08</td>\n    </tr>\n  </tbody>\n</table>\n</div>",
            "text/plain": "                 time  temperatureMin  temperatureMax\n0 2017-03-13 04:00:00            8.74           25.01\n1 2017-03-14 04:00:00           17.85           25.42\n2 2017-03-15 04:00:00           15.93           22.90\n3 2017-03-16 04:00:00           17.23           29.19\n4 2017-03-17 04:00:00           17.25           36.15\n5 2017-03-18 04:00:00           26.74           38.07\n6 2017-03-19 04:00:00           25.69           32.82\n7 2017-03-20 04:00:00           13.76           37.08"
          },
          "execution_count": 19,
          "metadata": {},
          "output_type": "execute_result"
        }
      ]
    },
    {
      "metadata": {},
      "cell_type": "markdown",
      "source": "## Step 3: Questions\n\n1. Pandas programs are different than typical Python programs. Explain the process by which you got the final solution?\n2. What was the most difficult aspect of this assignment? "
    },
    {
      "metadata": {},
      "cell_type": "markdown",
      "source": "## Reminder of Evaluation Criteria\n\n1. What the problem attempted (analysis, code, and answered questions) ?\n2. What the problem analysis thought out? (does the program match the plan?)\n3. Does the code execute without syntax error?\n4. Does the code solve the intended problem?\n5. Is the code well written? (easy to understand, modular, and self-documenting, handles errors)"
    },
    {
      "metadata": {
        "trusted": false
      },
      "cell_type": "code",
      "source": "",
      "execution_count": null,
      "outputs": []
    }
  ],
  "metadata": {
    "anaconda-cloud": {},
    "kernelspec": {
      "name": "python3",
      "display_name": "Python 3",
      "language": "python"
    },
    "language_info": {
      "mimetype": "text/x-python",
      "nbconvert_exporter": "python",
      "name": "python",
      "file_extension": ".py",
      "version": "3.5.4",
      "pygments_lexer": "ipython3",
      "codemirror_mode": {
        "version": 3,
        "name": "ipython"
      }
    }
  },
  "nbformat": 4,
  "nbformat_minor": 1
}