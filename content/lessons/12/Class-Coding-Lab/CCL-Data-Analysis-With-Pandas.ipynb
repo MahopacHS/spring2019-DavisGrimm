{
  "cells": [
    {
      "metadata": {},
      "cell_type": "markdown",
      "source": "# In-Class Coding Lab: Data Analysis with Pandas\n\nIn this lab, we will perform a data analysis on the **RMS Titanic** passenger list. The RMS Titanic is one of the most famous ocean liners in history. On April 15, 1912 it sank after colliding with an iceberg in the North Atlantic Ocean. To learn more, read here: https://en.wikipedia.org/wiki/RMS_Titanic \n\nOur goal today is to perform a data analysis on a subset of the passenger list. We're looking for insights as to which types of passengers did and didn't survive. Women? Children? 1st Class Passengers? 3rd class? Etc. \n\nI'm sure you've heard the expression often said during emergencies: \"Women and Children first\" Let's explore this data set and find out if that's true!\n\nBefore we begin you should read up on what each of the columns mean in the data dictionary. You can find this information on this page: https://www.kaggle.com/c/titanic/data \n\n\n## Loading the data set\n\nFirst we load the dataset into a Pandas `DataFrame` variable. The `sample(10)` method takes a random sample of 10 passengers from the data set."
    },
    {
      "metadata": {
        "trusted": true
      },
      "cell_type": "code",
      "source": "import pandas as pd\nimport numpy as np\n\n# this turns off warning messages\nimport warnings\nwarnings.filterwarnings('ignore')\n\npassengers = pd.read_csv('CCL-titanic.csv')\npassengers.sample(10)",
      "execution_count": 1,
      "outputs": [
        {
          "output_type": "execute_result",
          "execution_count": 1,
          "data": {
            "text/html": "<div>\n<table border=\"1\" class=\"dataframe\">\n  <thead>\n    <tr style=\"text-align: right;\">\n      <th></th>\n      <th>PassengerId</th>\n      <th>Survived</th>\n      <th>Pclass</th>\n      <th>Name</th>\n      <th>Sex</th>\n      <th>Age</th>\n      <th>SibSp</th>\n      <th>Parch</th>\n      <th>Ticket</th>\n      <th>Fare</th>\n      <th>Cabin</th>\n      <th>Embarked</th>\n    </tr>\n  </thead>\n  <tbody>\n    <tr>\n      <th>157</th>\n      <td>158</td>\n      <td>0</td>\n      <td>3</td>\n      <td>Corn, Mr. Harry</td>\n      <td>male</td>\n      <td>30.0</td>\n      <td>0</td>\n      <td>0</td>\n      <td>SOTON/OQ 392090</td>\n      <td>8.0500</td>\n      <td>NaN</td>\n      <td>S</td>\n    </tr>\n    <tr>\n      <th>851</th>\n      <td>852</td>\n      <td>0</td>\n      <td>3</td>\n      <td>Svensson, Mr. Johan</td>\n      <td>male</td>\n      <td>74.0</td>\n      <td>0</td>\n      <td>0</td>\n      <td>347060</td>\n      <td>7.7750</td>\n      <td>NaN</td>\n      <td>S</td>\n    </tr>\n    <tr>\n      <th>100</th>\n      <td>101</td>\n      <td>0</td>\n      <td>3</td>\n      <td>Petranec, Miss. Matilda</td>\n      <td>female</td>\n      <td>28.0</td>\n      <td>0</td>\n      <td>0</td>\n      <td>349245</td>\n      <td>7.8958</td>\n      <td>NaN</td>\n      <td>S</td>\n    </tr>\n    <tr>\n      <th>195</th>\n      <td>196</td>\n      <td>1</td>\n      <td>1</td>\n      <td>Lurette, Miss. Elise</td>\n      <td>female</td>\n      <td>58.0</td>\n      <td>0</td>\n      <td>0</td>\n      <td>PC 17569</td>\n      <td>146.5208</td>\n      <td>B80</td>\n      <td>C</td>\n    </tr>\n    <tr>\n      <th>557</th>\n      <td>558</td>\n      <td>0</td>\n      <td>1</td>\n      <td>Robbins, Mr. Victor</td>\n      <td>male</td>\n      <td>NaN</td>\n      <td>0</td>\n      <td>0</td>\n      <td>PC 17757</td>\n      <td>227.5250</td>\n      <td>NaN</td>\n      <td>C</td>\n    </tr>\n    <tr>\n      <th>476</th>\n      <td>477</td>\n      <td>0</td>\n      <td>2</td>\n      <td>Renouf, Mr. Peter Henry</td>\n      <td>male</td>\n      <td>34.0</td>\n      <td>1</td>\n      <td>0</td>\n      <td>31027</td>\n      <td>21.0000</td>\n      <td>NaN</td>\n      <td>S</td>\n    </tr>\n    <tr>\n      <th>855</th>\n      <td>856</td>\n      <td>1</td>\n      <td>3</td>\n      <td>Aks, Mrs. Sam (Leah Rosen)</td>\n      <td>female</td>\n      <td>18.0</td>\n      <td>0</td>\n      <td>1</td>\n      <td>392091</td>\n      <td>9.3500</td>\n      <td>NaN</td>\n      <td>S</td>\n    </tr>\n    <tr>\n      <th>251</th>\n      <td>252</td>\n      <td>0</td>\n      <td>3</td>\n      <td>Strom, Mrs. Wilhelm (Elna Matilda Persson)</td>\n      <td>female</td>\n      <td>29.0</td>\n      <td>1</td>\n      <td>1</td>\n      <td>347054</td>\n      <td>10.4625</td>\n      <td>G6</td>\n      <td>S</td>\n    </tr>\n    <tr>\n      <th>616</th>\n      <td>617</td>\n      <td>0</td>\n      <td>3</td>\n      <td>Danbom, Mr. Ernst Gilbert</td>\n      <td>male</td>\n      <td>34.0</td>\n      <td>1</td>\n      <td>1</td>\n      <td>347080</td>\n      <td>14.4000</td>\n      <td>NaN</td>\n      <td>S</td>\n    </tr>\n    <tr>\n      <th>201</th>\n      <td>202</td>\n      <td>0</td>\n      <td>3</td>\n      <td>Sage, Mr. Frederick</td>\n      <td>male</td>\n      <td>NaN</td>\n      <td>8</td>\n      <td>2</td>\n      <td>CA. 2343</td>\n      <td>69.5500</td>\n      <td>NaN</td>\n      <td>S</td>\n    </tr>\n  </tbody>\n</table>\n</div>",
            "text/plain": "     PassengerId  Survived  Pclass  \\\n157          158         0       3   \n851          852         0       3   \n100          101         0       3   \n195          196         1       1   \n557          558         0       1   \n476          477         0       2   \n855          856         1       3   \n251          252         0       3   \n616          617         0       3   \n201          202         0       3   \n\n                                           Name     Sex   Age  SibSp  Parch  \\\n157                             Corn, Mr. Harry    male  30.0      0      0   \n851                         Svensson, Mr. Johan    male  74.0      0      0   \n100                     Petranec, Miss. Matilda  female  28.0      0      0   \n195                        Lurette, Miss. Elise  female  58.0      0      0   \n557                         Robbins, Mr. Victor    male   NaN      0      0   \n476                     Renouf, Mr. Peter Henry    male  34.0      1      0   \n855                  Aks, Mrs. Sam (Leah Rosen)  female  18.0      0      1   \n251  Strom, Mrs. Wilhelm (Elna Matilda Persson)  female  29.0      1      1   \n616                   Danbom, Mr. Ernst Gilbert    male  34.0      1      1   \n201                         Sage, Mr. Frederick    male   NaN      8      2   \n\n              Ticket      Fare Cabin Embarked  \n157  SOTON/OQ 392090    8.0500   NaN        S  \n851           347060    7.7750   NaN        S  \n100           349245    7.8958   NaN        S  \n195         PC 17569  146.5208   B80        C  \n557         PC 17757  227.5250   NaN        C  \n476            31027   21.0000   NaN        S  \n855           392091    9.3500   NaN        S  \n251           347054   10.4625    G6        S  \n616           347080   14.4000   NaN        S  \n201         CA. 2343   69.5500   NaN        S  "
          },
          "metadata": {}
        }
      ]
    },
    {
      "metadata": {},
      "cell_type": "markdown",
      "source": "## How many survived?\n\nOne of the first things we should do is figure out how many of the passengers in this data set survived. Let's start with isolating just the `'Survivied'` column into a series:"
    },
    {
      "metadata": {
        "trusted": true
      },
      "cell_type": "code",
      "source": "passengers['Survived'].sample(10)",
      "execution_count": 2,
      "outputs": [
        {
          "output_type": "execute_result",
          "execution_count": 2,
          "data": {
            "text/plain": "857    1\n169    0\n229    0\n828    1\n846    0\n812    0\n506    1\n890    0\n629    0\n221    0\nName: Survived, dtype: int64"
          },
          "metadata": {}
        }
      ]
    },
    {
      "metadata": {},
      "cell_type": "markdown",
      "source": "There's too many to display so we just display a random sample of 10 passengers. \n\n- 1 means the passenger survivied\n- 0 means the passenger died\n\nWhat we really want is to count the number of survivors and deaths. We do this by querying the `value_counts()` of the `['Survived']` column, which returns a `Series` of counts, like this:"
    },
    {
      "metadata": {
        "trusted": true
      },
      "cell_type": "code",
      "source": "passengers['Survived'].value_counts()",
      "execution_count": 3,
      "outputs": [
        {
          "output_type": "execute_result",
          "execution_count": 3,
          "data": {
            "text/plain": "0    549\n1    342\nName: Survived, dtype: int64"
          },
          "metadata": {}
        }
      ]
    },
    {
      "metadata": {},
      "cell_type": "markdown",
      "source": "Only 342 passengers survived, and 549 perished. Let's observe this same data as percentages of the whole. We do this by adding the `normalize=True` named argument to the `value_counts()` method."
    },
    {
      "metadata": {
        "trusted": true
      },
      "cell_type": "code",
      "source": "passengers['Survived'].value_counts(normalize=True)",
      "execution_count": 4,
      "outputs": [
        {
          "output_type": "execute_result",
          "execution_count": 4,
          "data": {
            "text/plain": "0    0.616162\n1    0.383838\nName: Survived, dtype: float64"
          },
          "metadata": {}
        }
      ]
    },
    {
      "metadata": {},
      "cell_type": "markdown",
      "source": "**Just 38% of passengers in this dataset survived.**"
    },
    {
      "metadata": {},
      "cell_type": "markdown",
      "source": "### Now you Try it!\n\n**FIRST** Write a Pandas expression to display counts of males and female passengers using the `Sex` variable:"
    },
    {
      "metadata": {
        "trusted": true
      },
      "cell_type": "code",
      "source": "passengers['Sex'].value_counts()",
      "execution_count": 7,
      "outputs": [
        {
          "output_type": "execute_result",
          "execution_count": 7,
          "data": {
            "text/plain": "male      577\nfemale    314\nName: Sex, dtype: int64"
          },
          "metadata": {}
        }
      ]
    },
    {
      "metadata": {},
      "cell_type": "markdown",
      "source": "**NEXT** Write a Pandas expression to display male /female passenger counts as a percentage of the whole number of passengers in the data set."
    },
    {
      "metadata": {
        "trusted": true
      },
      "cell_type": "code",
      "source": "passengers['Sex'].value_counts(normalize=True)",
      "execution_count": 8,
      "outputs": [
        {
          "output_type": "execute_result",
          "execution_count": 8,
          "data": {
            "text/plain": "male      0.647587\nfemale    0.352413\nName: Sex, dtype: float64"
          },
          "metadata": {}
        }
      ]
    },
    {
      "metadata": {},
      "cell_type": "markdown",
      "source": "If you got things working, you now know that **35% of passengers were female**."
    },
    {
      "metadata": {},
      "cell_type": "markdown",
      "source": "## Who survivies? Men or Women?\n\nWe now know that 35% of the passengers were female, and 65% we male. \n\n**The next think to think about is how do survivial rates affect these numbers? **\n\nIf the ratio is about the same for surviviors only, then we can conclude that your **Sex** did not play a role in your survival on the RMS Titanic. \n\nLet's find out."
    },
    {
      "metadata": {
        "trusted": true
      },
      "cell_type": "code",
      "source": "survivors = passengers[passengers['Survived'] ==1]\nsurvivors['PassengerId'].count()",
      "execution_count": 9,
      "outputs": [
        {
          "output_type": "execute_result",
          "execution_count": 9,
          "data": {
            "text/plain": "342"
          },
          "metadata": {}
        }
      ]
    },
    {
      "metadata": {},
      "cell_type": "markdown",
      "source": "Still **342** like we discovered originally. Now let's check the **Sex** split among survivors only:"
    },
    {
      "metadata": {
        "trusted": true
      },
      "cell_type": "code",
      "source": "survivors['Sex'].value_counts()",
      "execution_count": 10,
      "outputs": [
        {
          "output_type": "execute_result",
          "execution_count": 10,
          "data": {
            "text/plain": "female    233\nmale      109\nName: Sex, dtype: int64"
          },
          "metadata": {}
        }
      ]
    },
    {
      "metadata": {},
      "cell_type": "markdown",
      "source": "WOW! That is a huge difference! But you probably can't see it easily. Let's represent it in a `DataFrame`, so that it's easier to visualize:"
    },
    {
      "metadata": {
        "trusted": true
      },
      "cell_type": "code",
      "source": "sex_all_series = passengers['Sex'].value_counts()\nsex_survivor_series = survivors['Sex'].value_counts()\n\nsex_comparision_df = pd.DataFrame({ 'AllPassengers' : sex_all_series, 'Survivors' : sex_survivor_series })\nsex_comparision_df['SexSurvivialRate'] = sex_comparision_df['Survivors'] / sex_comparision_df['AllPassengers']\nsex_comparision_df",
      "execution_count": 11,
      "outputs": [
        {
          "output_type": "execute_result",
          "execution_count": 11,
          "data": {
            "text/html": "<div>\n<table border=\"1\" class=\"dataframe\">\n  <thead>\n    <tr style=\"text-align: right;\">\n      <th></th>\n      <th>AllPassengers</th>\n      <th>Survivors</th>\n      <th>SexSurvivialRate</th>\n    </tr>\n  </thead>\n  <tbody>\n    <tr>\n      <th>female</th>\n      <td>314</td>\n      <td>233</td>\n      <td>0.742038</td>\n    </tr>\n    <tr>\n      <th>male</th>\n      <td>577</td>\n      <td>109</td>\n      <td>0.188908</td>\n    </tr>\n  </tbody>\n</table>\n</div>",
            "text/plain": "        AllPassengers  Survivors  SexSurvivialRate\nfemale            314        233          0.742038\nmale              577        109          0.188908"
          },
          "metadata": {}
        }
      ]
    },
    {
      "metadata": {},
      "cell_type": "markdown",
      "source": " **So, females had a 74% survival rate. Much better than the overall rate of 38%**\n \nWe should probably briefly explain the code above. \n\n- The first two lines get a series count of all passengers by Sex (male / female) and count of survivors by sex\n- The third line creates DataFrame. Recall a pandas dataframe is just a dict of series. We have two keys 'AllPassengers' and 'Survivors'\n- The  fourth line creates a new column in the dataframe which is just the survivors / all passengers to get the rate of survival for that Sex.\n\n## Feature Engineering: Adults and Children\n\nSometimes the variable we want to analyze is not readily available, but can be created from existing data. This is commonly referred to as **feature engineering**. The name comes from machine learning where we use data called *features* to predict an outcome. \n\nLet's create a new feature called `'AgeCat'` as follows:\n\n- When **Age** <=18 then 'Child'\n- When **Age** >18 then 'Adult'\n\nThis is easy to do in pandas. First we create the column and set all values to `np.nan` which means 'Not a number'. This is Pandas way of saying no value. Then we set the values based on the rules we set for the feature."
    },
    {
      "metadata": {
        "trusted": true
      },
      "cell_type": "code",
      "source": "passengers['AgeCat'] = np.nan # Not a number\npassengers['AgeCat'][ passengers['Age'] <=18 ] = 'Child'\npassengers['AgeCat'][ passengers['Age'] > 18 ] = 'Adult'\npassengers.sample(5)",
      "execution_count": 12,
      "outputs": [
        {
          "output_type": "execute_result",
          "execution_count": 12,
          "data": {
            "text/html": "<div>\n<table border=\"1\" class=\"dataframe\">\n  <thead>\n    <tr style=\"text-align: right;\">\n      <th></th>\n      <th>PassengerId</th>\n      <th>Survived</th>\n      <th>Pclass</th>\n      <th>Name</th>\n      <th>Sex</th>\n      <th>Age</th>\n      <th>SibSp</th>\n      <th>Parch</th>\n      <th>Ticket</th>\n      <th>Fare</th>\n      <th>Cabin</th>\n      <th>Embarked</th>\n      <th>AgeCat</th>\n    </tr>\n  </thead>\n  <tbody>\n    <tr>\n      <th>266</th>\n      <td>267</td>\n      <td>0</td>\n      <td>3</td>\n      <td>Panula, Mr. Ernesti Arvid</td>\n      <td>male</td>\n      <td>16.0</td>\n      <td>4</td>\n      <td>1</td>\n      <td>3101295</td>\n      <td>39.6875</td>\n      <td>NaN</td>\n      <td>S</td>\n      <td>Child</td>\n    </tr>\n    <tr>\n      <th>164</th>\n      <td>165</td>\n      <td>0</td>\n      <td>3</td>\n      <td>Panula, Master. Eino Viljami</td>\n      <td>male</td>\n      <td>1.0</td>\n      <td>4</td>\n      <td>1</td>\n      <td>3101295</td>\n      <td>39.6875</td>\n      <td>NaN</td>\n      <td>S</td>\n      <td>Child</td>\n    </tr>\n    <tr>\n      <th>573</th>\n      <td>574</td>\n      <td>1</td>\n      <td>3</td>\n      <td>Kelly, Miss. Mary</td>\n      <td>female</td>\n      <td>NaN</td>\n      <td>0</td>\n      <td>0</td>\n      <td>14312</td>\n      <td>7.7500</td>\n      <td>NaN</td>\n      <td>Q</td>\n      <td>NaN</td>\n    </tr>\n    <tr>\n      <th>359</th>\n      <td>360</td>\n      <td>1</td>\n      <td>3</td>\n      <td>Mockler, Miss. Helen Mary \"Ellie\"</td>\n      <td>female</td>\n      <td>NaN</td>\n      <td>0</td>\n      <td>0</td>\n      <td>330980</td>\n      <td>7.8792</td>\n      <td>NaN</td>\n      <td>Q</td>\n      <td>NaN</td>\n    </tr>\n    <tr>\n      <th>576</th>\n      <td>577</td>\n      <td>1</td>\n      <td>2</td>\n      <td>Garside, Miss. Ethel</td>\n      <td>female</td>\n      <td>34.0</td>\n      <td>0</td>\n      <td>0</td>\n      <td>243880</td>\n      <td>13.0000</td>\n      <td>NaN</td>\n      <td>S</td>\n      <td>Adult</td>\n    </tr>\n  </tbody>\n</table>\n</div>",
            "text/plain": "     PassengerId  Survived  Pclass                               Name     Sex  \\\n266          267         0       3          Panula, Mr. Ernesti Arvid    male   \n164          165         0       3       Panula, Master. Eino Viljami    male   \n573          574         1       3                  Kelly, Miss. Mary  female   \n359          360         1       3  Mockler, Miss. Helen Mary \"Ellie\"  female   \n576          577         1       2               Garside, Miss. Ethel  female   \n\n      Age  SibSp  Parch   Ticket     Fare Cabin Embarked AgeCat  \n266  16.0      4      1  3101295  39.6875   NaN        S  Child  \n164   1.0      4      1  3101295  39.6875   NaN        S  Child  \n573   NaN      0      0    14312   7.7500   NaN        Q    NaN  \n359   NaN      0      0   330980   7.8792   NaN        Q    NaN  \n576  34.0      0      0   243880  13.0000   NaN        S  Adult  "
          },
          "metadata": {}
        }
      ]
    },
    {
      "metadata": {},
      "cell_type": "markdown",
      "source": "Let's get the count and distrubutions of Adults and Children on the passenger list."
    },
    {
      "metadata": {
        "trusted": true
      },
      "cell_type": "code",
      "source": "passengers['AgeCat'].value_counts()",
      "execution_count": 13,
      "outputs": [
        {
          "output_type": "execute_result",
          "execution_count": 13,
          "data": {
            "text/plain": "Adult    575\nChild    139\nName: AgeCat, dtype: int64"
          },
          "metadata": {}
        }
      ]
    },
    {
      "metadata": {},
      "cell_type": "markdown",
      "source": "And here's the percentage as a whole:"
    },
    {
      "metadata": {
        "trusted": true
      },
      "cell_type": "code",
      "source": "passengers['AgeCat'].value_counts(normalize=True)",
      "execution_count": 14,
      "outputs": [
        {
          "output_type": "execute_result",
          "execution_count": 14,
          "data": {
            "text/plain": "Adult    0.805322\nChild    0.194678\nName: AgeCat, dtype: float64"
          },
          "metadata": {}
        }
      ]
    },
    {
      "metadata": {},
      "cell_type": "markdown",
      "source": "So close to **80%** of the passengers were adults. Once again let's look at the ratio of `AgeCat` for survivors only. If your age has no bearing of survivial, then the rates should be the same. \n\nHere's the counts of Adult / Children among the survivors only:"
    },
    {
      "metadata": {
        "trusted": true
      },
      "cell_type": "code",
      "source": "survivors = passengers[passengers['Survived'] ==1]\nsurvivors['AgeCat'].value_counts()",
      "execution_count": 15,
      "outputs": [
        {
          "output_type": "execute_result",
          "execution_count": 15,
          "data": {
            "text/plain": "Adult    220\nChild     70\nName: AgeCat, dtype: int64"
          },
          "metadata": {}
        }
      ]
    },
    {
      "metadata": {},
      "cell_type": "markdown",
      "source": "### Now You Try it!\n\nCalculate the `AgeCat` survival rate, similar to how we did for the `SexSurvivalRate`. "
    },
    {
      "metadata": {
        "trusted": true
      },
      "cell_type": "code",
      "source": "agecat_all_series = passengers['AgeCat'].value_counts()\nagecat_survivor_series = survivors['AgeCat'].value_counts()\n\n# todo make a data frame, add AgeCatSurvivialRate column, display dataframe \nagecat_comparision_df = pd.DataFrame({ 'AllPassengers' : agecat_all_series, 'Survivors' : agecat_survivor_series })\nagecat_comparision_df['AgeCatSurvivialRate'] = agecat_comparision_df['Survivors'] / agecat_comparision_df['AllPassengers']\nagecat_comparision_df",
      "execution_count": 16,
      "outputs": [
        {
          "output_type": "execute_result",
          "execution_count": 16,
          "data": {
            "text/html": "<div>\n<table border=\"1\" class=\"dataframe\">\n  <thead>\n    <tr style=\"text-align: right;\">\n      <th></th>\n      <th>AllPassengers</th>\n      <th>Survivors</th>\n      <th>AgeCatSurvivialRate</th>\n    </tr>\n  </thead>\n  <tbody>\n    <tr>\n      <th>Adult</th>\n      <td>575</td>\n      <td>220</td>\n      <td>0.382609</td>\n    </tr>\n    <tr>\n      <th>Child</th>\n      <td>139</td>\n      <td>70</td>\n      <td>0.503597</td>\n    </tr>\n  </tbody>\n</table>\n</div>",
            "text/plain": "       AllPassengers  Survivors  AgeCatSurvivialRate\nAdult            575        220             0.382609\nChild            139         70             0.503597"
          },
          "metadata": {}
        }
      ]
    },
    {
      "metadata": {},
      "cell_type": "markdown",
      "source": "**So, children had a 50% survival rate, better than the overall rate of 38%**\n\n## So, women and children first?\n\nIt looks like the RMS really did have the motto: \"Women and Children First.\"\n\nHere's our insights. We know:\n\n- If you were a passenger, you had a 38% chance of survival.\n- If you were a female passenger, you had a 74% chance of survival.\n- If you were a child passenger, you had a 50% chance of survival. \n\n\n### Now you try it for Passenger Class\n\nRepeat this process for `Pclass` The passenger class variable. Display the survival rates for each passenger class. What does the information tell you about passenger class and survival rates?\n\nI'll give you a hint... \"Money Talks\"\n"
    },
    {
      "metadata": {
        "trusted": true
      },
      "cell_type": "code",
      "source": "# todo: repeat the analysis in the previous cell for Pclass \npclass_all_series = passengers['Pclass'].value_counts()\npclass_survivor_series = survivors['Pclass'].value_counts() \npclass_comparision_df = pd.DataFrame({ 'AllPassengers' : pclass_all_series, 'Survivors' : pclass_survivor_series })\npclass_comparision_df['PclassSurvivialRate'] = pclass_comparision_df['Survivors'] / pclass_comparision_df['AllPassengers']\npclass_comparision_df",
      "execution_count": 17,
      "outputs": [
        {
          "output_type": "execute_result",
          "execution_count": 17,
          "data": {
            "text/html": "<div>\n<table border=\"1\" class=\"dataframe\">\n  <thead>\n    <tr style=\"text-align: right;\">\n      <th></th>\n      <th>AllPassengers</th>\n      <th>Survivors</th>\n      <th>PclassSurvivialRate</th>\n    </tr>\n  </thead>\n  <tbody>\n    <tr>\n      <th>1</th>\n      <td>216</td>\n      <td>136</td>\n      <td>0.629630</td>\n    </tr>\n    <tr>\n      <th>2</th>\n      <td>184</td>\n      <td>87</td>\n      <td>0.472826</td>\n    </tr>\n    <tr>\n      <th>3</th>\n      <td>491</td>\n      <td>119</td>\n      <td>0.242363</td>\n    </tr>\n  </tbody>\n</table>\n</div>",
            "text/plain": "   AllPassengers  Survivors  PclassSurvivialRate\n1            216        136             0.629630\n2            184         87             0.472826\n3            491        119             0.242363"
          },
          "metadata": {}
        }
      ]
    },
    {
      "metadata": {
        "trusted": true
      },
      "cell_type": "code",
      "source": "",
      "execution_count": null,
      "outputs": []
    }
  ],
  "metadata": {
    "anaconda-cloud": {},
    "kernelspec": {
      "name": "python3",
      "display_name": "Python 3",
      "language": "python"
    },
    "language_info": {
      "mimetype": "text/x-python",
      "nbconvert_exporter": "python",
      "name": "python",
      "file_extension": ".py",
      "version": "3.5.4",
      "pygments_lexer": "ipython3",
      "codemirror_mode": {
        "version": 3,
        "name": "ipython"
      }
    }
  },
  "nbformat": 4,
  "nbformat_minor": 1
}