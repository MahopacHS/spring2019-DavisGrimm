{
  "cells": [
    {
      "metadata": {},
      "cell_type": "markdown",
      "source": "# Watch Me Code 1: Pandas Basics\n\n- Series\n- DataFrame\n- Select columns, Select rows with Boolean indexing\n"
    },
    {
      "metadata": {
        "collapsed": true,
        "trusted": false
      },
      "cell_type": "code",
      "source": "import pandas as pd",
      "execution_count": 7,
      "outputs": []
    },
    {
      "metadata": {
        "trusted": false
      },
      "cell_type": "code",
      "source": "fruits = pd.Series(['Apple', 'Banana', 'Cherry', 'Orange'], name = \"Fruit\")\nfruits",
      "execution_count": 8,
      "outputs": [
        {
          "data": {
            "text/plain": "0     Apple\n1    Banana\n2    Cherry\n3    Orange\nName: Fruit, dtype: object"
          },
          "execution_count": 8,
          "metadata": {},
          "output_type": "execute_result"
        }
      ]
    },
    {
      "metadata": {
        "trusted": false
      },
      "cell_type": "code",
      "source": "qtys = pd.Series([5,7,2,9])\nqtys",
      "execution_count": 9,
      "outputs": [
        {
          "data": {
            "text/plain": "0    5\n1    7\n2    2\n3    9\ndtype: int64"
          },
          "execution_count": 9,
          "metadata": {},
          "output_type": "execute_result"
        }
      ]
    },
    {
      "metadata": {
        "trusted": false
      },
      "cell_type": "code",
      "source": "# dictionary of Series\ninventory = pd.DataFrame({ 'Fruit' : fruits, 'Qty' : qtys, 'Price': [2.99,1.99,3.99,2.99] })\ninventory",
      "execution_count": 11,
      "outputs": [
        {
          "data": {
            "text/html": "<div>\n<table border=\"1\" class=\"dataframe\">\n  <thead>\n    <tr style=\"text-align: right;\">\n      <th></th>\n      <th>Fruit</th>\n      <th>Price</th>\n      <th>Qty</th>\n    </tr>\n  </thead>\n  <tbody>\n    <tr>\n      <th>0</th>\n      <td>Apple</td>\n      <td>2.99</td>\n      <td>5</td>\n    </tr>\n    <tr>\n      <th>1</th>\n      <td>Banana</td>\n      <td>1.99</td>\n      <td>7</td>\n    </tr>\n    <tr>\n      <th>2</th>\n      <td>Cherry</td>\n      <td>3.99</td>\n      <td>2</td>\n    </tr>\n    <tr>\n      <th>3</th>\n      <td>Orange</td>\n      <td>2.99</td>\n      <td>9</td>\n    </tr>\n  </tbody>\n</table>\n</div>",
            "text/plain": "    Fruit  Price  Qty\n0   Apple   2.99    5\n1  Banana   1.99    7\n2  Cherry   3.99    2\n3  Orange   2.99    9"
          },
          "execution_count": 11,
          "metadata": {},
          "output_type": "execute_result"
        }
      ]
    },
    {
      "metadata": {
        "trusted": false
      },
      "cell_type": "code",
      "source": "# column selection\ninventory['Fruit']",
      "execution_count": 12,
      "outputs": [
        {
          "data": {
            "text/plain": "0     Apple\n1    Banana\n2    Cherry\n3    Orange\nName: Fruit, dtype: object"
          },
          "execution_count": 12,
          "metadata": {},
          "output_type": "execute_result"
        }
      ]
    },
    {
      "metadata": {
        "trusted": false
      },
      "cell_type": "code",
      "source": "# as DataFrame\ninventory[ ['Fruit'] ]",
      "execution_count": 13,
      "outputs": [
        {
          "data": {
            "text/html": "<div>\n<table border=\"1\" class=\"dataframe\">\n  <thead>\n    <tr style=\"text-align: right;\">\n      <th></th>\n      <th>Fruit</th>\n    </tr>\n  </thead>\n  <tbody>\n    <tr>\n      <th>0</th>\n      <td>Apple</td>\n    </tr>\n    <tr>\n      <th>1</th>\n      <td>Banana</td>\n    </tr>\n    <tr>\n      <th>2</th>\n      <td>Cherry</td>\n    </tr>\n    <tr>\n      <th>3</th>\n      <td>Orange</td>\n    </tr>\n  </tbody>\n</table>\n</div>",
            "text/plain": "    Fruit\n0   Apple\n1  Banana\n2  Cherry\n3  Orange"
          },
          "execution_count": 13,
          "metadata": {},
          "output_type": "execute_result"
        }
      ]
    },
    {
      "metadata": {
        "trusted": false
      },
      "cell_type": "code",
      "source": "#two columns in the list\ninventory[ ['Fruit','Price'] ]",
      "execution_count": 14,
      "outputs": [
        {
          "data": {
            "text/html": "<div>\n<table border=\"1\" class=\"dataframe\">\n  <thead>\n    <tr style=\"text-align: right;\">\n      <th></th>\n      <th>Fruit</th>\n      <th>Price</th>\n    </tr>\n  </thead>\n  <tbody>\n    <tr>\n      <th>0</th>\n      <td>Apple</td>\n      <td>2.99</td>\n    </tr>\n    <tr>\n      <th>1</th>\n      <td>Banana</td>\n      <td>1.99</td>\n    </tr>\n    <tr>\n      <th>2</th>\n      <td>Cherry</td>\n      <td>3.99</td>\n    </tr>\n    <tr>\n      <th>3</th>\n      <td>Orange</td>\n      <td>2.99</td>\n    </tr>\n  </tbody>\n</table>\n</div>",
            "text/plain": "    Fruit  Price\n0   Apple   2.99\n1  Banana   1.99\n2  Cherry   3.99\n3  Orange   2.99"
          },
          "execution_count": 14,
          "metadata": {},
          "output_type": "execute_result"
        }
      ]
    },
    {
      "metadata": {
        "trusted": false
      },
      "cell_type": "code",
      "source": "# Boolean index\ninventory['Qty'] >5 ",
      "execution_count": 15,
      "outputs": [
        {
          "data": {
            "text/plain": "0    False\n1     True\n2    False\n3     True\nName: Qty, dtype: bool"
          },
          "execution_count": 15,
          "metadata": {},
          "output_type": "execute_result"
        }
      ]
    },
    {
      "metadata": {
        "trusted": false
      },
      "cell_type": "code",
      "source": "# applying a boolean index to a dataframe\ninventory[ inventory['Qty'] >5 ]",
      "execution_count": 16,
      "outputs": [
        {
          "data": {
            "text/html": "<div>\n<table border=\"1\" class=\"dataframe\">\n  <thead>\n    <tr style=\"text-align: right;\">\n      <th></th>\n      <th>Fruit</th>\n      <th>Price</th>\n      <th>Qty</th>\n    </tr>\n  </thead>\n  <tbody>\n    <tr>\n      <th>1</th>\n      <td>Banana</td>\n      <td>1.99</td>\n      <td>7</td>\n    </tr>\n    <tr>\n      <th>3</th>\n      <td>Orange</td>\n      <td>2.99</td>\n      <td>9</td>\n    </tr>\n  </tbody>\n</table>\n</div>",
            "text/plain": "    Fruit  Price  Qty\n1  Banana   1.99    7\n3  Orange   2.99    9"
          },
          "execution_count": 16,
          "metadata": {},
          "output_type": "execute_result"
        }
      ]
    },
    {
      "metadata": {
        "trusted": false
      },
      "cell_type": "code",
      "source": "#combining columns and filters\nfruit_and_price_over5 = inventory[['Fruit','Price']][inventory['Qty'] >5 ] \nfruit_and_price_over5",
      "execution_count": 20,
      "outputs": [
        {
          "data": {
            "text/html": "<div>\n<table border=\"1\" class=\"dataframe\">\n  <thead>\n    <tr style=\"text-align: right;\">\n      <th></th>\n      <th>Fruit</th>\n      <th>Price</th>\n    </tr>\n  </thead>\n  <tbody>\n    <tr>\n      <th>1</th>\n      <td>Banana</td>\n      <td>1.99</td>\n    </tr>\n    <tr>\n      <th>3</th>\n      <td>Orange</td>\n      <td>2.99</td>\n    </tr>\n  </tbody>\n</table>\n</div>",
            "text/plain": "    Fruit  Price\n1  Banana   1.99\n3  Orange   2.99"
          },
          "execution_count": 20,
          "metadata": {},
          "output_type": "execute_result"
        }
      ]
    },
    {
      "metadata": {
        "trusted": false
      },
      "cell_type": "code",
      "source": "# Confused? Too hot to handle??? Use variables!\nlarge_qty = inventory[ inventory['Qty'] >5 ]\nfruit_and_price_over5 = large_qty[ ['Fruit', 'Price' ] ]\nfruit_and_price_over5 ",
      "execution_count": 19,
      "outputs": [
        {
          "data": {
            "text/html": "<div>\n<table border=\"1\" class=\"dataframe\">\n  <thead>\n    <tr style=\"text-align: right;\">\n      <th></th>\n      <th>Fruit</th>\n      <th>Price</th>\n    </tr>\n  </thead>\n  <tbody>\n    <tr>\n      <th>1</th>\n      <td>Banana</td>\n      <td>1.99</td>\n    </tr>\n    <tr>\n      <th>3</th>\n      <td>Orange</td>\n      <td>2.99</td>\n    </tr>\n  </tbody>\n</table>\n</div>",
            "text/plain": "    Fruit  Price\n1  Banana   1.99\n3  Orange   2.99"
          },
          "execution_count": 19,
          "metadata": {},
          "output_type": "execute_result"
        }
      ]
    },
    {
      "metadata": {
        "collapsed": true,
        "trusted": false
      },
      "cell_type": "code",
      "source": "",
      "execution_count": null,
      "outputs": []
    }
  ],
  "metadata": {
    "anaconda-cloud": {},
    "kernelspec": {
      "name": "python3",
      "display_name": "Python 3",
      "language": "python"
    },
    "language_info": {
      "mimetype": "text/x-python",
      "nbconvert_exporter": "python",
      "name": "python",
      "pygments_lexer": "ipython3",
      "version": "3.5.4",
      "file_extension": ".py",
      "codemirror_mode": {
        "version": 3,
        "name": "ipython"
      }
    }
  },
  "nbformat": 4,
  "nbformat_minor": 1
}