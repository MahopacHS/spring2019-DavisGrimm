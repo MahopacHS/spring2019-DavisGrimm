{
  "cells": [
    {
      "metadata": {},
      "cell_type": "markdown",
      "source": "# Now You Code 3: Twitter Hastag Detector\n\nLet's use Python's built-in string functions to help us write a program to detect Twitter hashtags in text. Here's how it should work:\n\nExample Run 1:\n\n```\nEnter Tweet: You got a 50 on the exam? #iamsad for you!\nHashtag: #iamsad\n```    \nExample Run 2:\n\n```\nEnter Tweet: #lol too funny #joke #haha\nHashtag: #lol\nHashtag: #joke\nHashtag: #haha\n```\n\nExample Run 3:\n\n```\nEnter Tweet: Happy birthday @mafudge\nHashtag: none\n```\n\nYour approach should be to split the text into words and for each word look for the hashtag `#` at the start of the word."
    },
    {
      "metadata": {},
      "cell_type": "markdown",
      "source": "# Step 1: Problem Analysis Program\n\nInputs:\n\nOutputs:\n\nAlgorithm (Steps in Program):\n\n\n"
    },
    {
      "metadata": {
        "trusted": true
      },
      "cell_type": "code",
      "source": "text = input(\"Enter tweet: \")\nfor word in text.split():\n    if word[0] == \"#\":\n        print(word)\n    else:\n        print(\"No hashtags present\")",
      "execution_count": 13,
      "outputs": [
        {
          "output_type": "stream",
          "name": "stdout",
          "text": "Enter tweet: yolo#\nNo hashtags present\n"
        }
      ]
    },
    {
      "metadata": {},
      "cell_type": "markdown",
      "source": "## Step 3: Questions\n\n1. What happens when the hashtag is not in the beginning of the word? ex. `it wights 64# that's #heavy`? Is this a problem?\n2. Describe an approach for refactoring this code to use a function? What would the arguments and return values be? (Don't refactor the code, just describe your approach!) \n3. Is there a way to write this program without a loop?"
    },
    {
      "metadata": {},
      "cell_type": "markdown",
      "source": "## Reminder of Evaluation Criteria\n\n1. What the problem attempted (analysis, code, and answered questions) ?\n2. What the problem analysis thought out? (does the program match the plan?)\n3. Does the code execute without syntax error?\n4. Does the code solve the intended problem?\n5. Is the code well written? (easy to understand, modular, and self-documenting, handles errors)\n"
    },
    {
      "metadata": {
        "collapsed": true,
        "trusted": false
      },
      "cell_type": "code",
      "source": "1. It says that there are not any hashtags; \n2. The argument might be something like:\n    hashtags = text.count(\"#\")\n    if hashtags > 0:\n        print(\"Hashtag: \",hashtags)\n    else:\n        print(\"No hashtags present\")\nwhile on the other hand, the return values might be something like: \"Hashtag: #yolo\" or \"No hashtags present\"\n3. The way suggested above MIGHT be possible to do without a loop.",
      "execution_count": 2,
      "outputs": []
    }
  ],
  "metadata": {
    "anaconda-cloud": {},
    "kernelspec": {
      "name": "python3",
      "display_name": "Python 3",
      "language": "python"
    },
    "language_info": {
      "mimetype": "text/x-python",
      "nbconvert_exporter": "python",
      "name": "python",
      "file_extension": ".py",
      "version": "3.5.4",
      "pygments_lexer": "ipython3",
      "codemirror_mode": {
        "version": 3,
        "name": "ipython"
      }
    }
  },
  "nbformat": 4,
  "nbformat_minor": 1
}